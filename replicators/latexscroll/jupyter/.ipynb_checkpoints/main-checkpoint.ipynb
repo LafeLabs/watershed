{
 "cells": [
  {
   "cell_type": "code",
   "execution_count": 2,
   "metadata": {},
   "outputs": [],
   "source": [
    "import numpy as np\n",
    "import matplotlib.pyplot as plt\n",
    "from scipy.optimize import curve_fit"
   ]
  },
  {
   "cell_type": "code",
   "execution_count": 3,
   "metadata": {},
   "outputs": [],
   "source": [
    "def func(x, tn, t, g):\n",
    "    return g*(tn + t*(x + 0.00000001)/np.tanh(x + 0.00000001))"
   ]
  },
  {
   "cell_type": "markdown",
   "metadata": {},
   "source": [
    "$y = g(t_n + t(x\\coth{x}))$"
   ]
  },
  {
   "cell_type": "code",
   "execution_count": 4,
   "metadata": {},
   "outputs": [
    {
     "data": {
      "text/plain": [
       "[<matplotlib.lines.Line2D at 0x26bdb39fc18>]"
      ]
     },
     "execution_count": 4,
     "metadata": {},
     "output_type": "execute_result"
    },
    {
     "data": {
      "image/png": "[encoded data removed]",
      "text/plain": [
       "<matplotlib.figure.Figure at 0x26bdb0b9fd0>"
      ]
     },
     "metadata": {},
     "output_type": "display_data"
    }
   ],
   "source": [
    "xdata = np.linspace(-10, 10, 99)\n",
    "y = func(xdata, 2.5, 2, 1)\n",
    "np.random.seed(1729)\n",
    "y_noise = 0.4 * np.random.normal(size=xdata.size)\n",
    "ydata = y + y_noise\n",
    "plt.plot(xdata, ydata, 'b+', label='data')"
   ]
  },
  {
   "cell_type": "code",
   "execution_count": 5,
   "metadata": {},
   "outputs": [],
   "source": [
    "popt, pcov = curve_fit(func, xdata, ydata)"
   ]
  },
  {
   "cell_type": "code",
   "execution_count": 6,
   "metadata": {},
   "outputs": [
    {
     "data": {
      "text/plain": [
       "array([1.05358445, 0.81282578, 2.43682932])"
      ]
     },
     "execution_count": 6,
     "metadata": {},
     "output_type": "execute_result"
    }
   ],
   "source": [
    "popt"
   ]
  },
  {
   "cell_type": "code",
   "execution_count": 7,
   "metadata": {},
   "outputs": [
    {
     "data": {
      "text/plain": [
       "[<matplotlib.lines.Line2D at 0x26bdb85e9e8>,\n",
       " <matplotlib.lines.Line2D at 0x26bdb85eb70>,\n",
       " <matplotlib.lines.Line2D at 0x26bdb867400>]"
      ]
     },
     "execution_count": 7,
     "metadata": {},
     "output_type": "execute_result"
    },
    {
     "data": {
      "image/png": "[encoded data removed]",
      "text/plain": [
       "<matplotlib.figure.Figure at 0x26bdb0b9748>"
      ]
     },
     "metadata": {},
     "output_type": "display_data"
    }
   ],
   "source": [
    "plt.plot(xdata,ydata-func(xdata, *popt),'g+',xdata,ydata,'b+',xdata, func(xdata, *popt),'r-',\n",
    "...          label='fit: a=%5.3f, b=%5.3f, c=%5.3f' % tuple(popt))"
   ]
  },
  {
   "cell_type": "code",
   "execution_count": 8,
   "metadata": {},
   "outputs": [
    {
     "data": {
      "text/plain": [
       "array([-10.        ,  -9.79591837,  -9.59183673,  -9.3877551 ,\n",
       "        -9.18367347,  -8.97959184,  -8.7755102 ,  -8.57142857,\n",
       "        -8.36734694,  -8.16326531,  -7.95918367,  -7.75510204,\n",
       "        -7.55102041,  -7.34693878,  -7.14285714,  -6.93877551,\n",
       "        -6.73469388,  -6.53061224,  -6.32653061,  -6.12244898,\n",
       "        -5.91836735,  -5.71428571,  -5.51020408,  -5.30612245,\n",
       "        -5.10204082,  -4.89795918,  -4.69387755,  -4.48979592,\n",
       "        -4.28571429,  -4.08163265,  -3.87755102,  -3.67346939,\n",
       "        -3.46938776,  -3.26530612,  -3.06122449,  -2.85714286,\n",
       "        -2.65306122,  -2.44897959,  -2.24489796,  -2.04081633,\n",
       "        -1.83673469,  -1.63265306,  -1.42857143,  -1.2244898 ,\n",
       "        -1.02040816,  -0.81632653,  -0.6122449 ,  -0.40816327,\n",
       "        -0.20408163,   0.        ,   0.20408163,   0.40816327,\n",
       "         0.6122449 ,   0.81632653,   1.02040816,   1.2244898 ,\n",
       "         1.42857143,   1.63265306,   1.83673469,   2.04081633,\n",
       "         2.24489796,   2.44897959,   2.65306122,   2.85714286,\n",
       "         3.06122449,   3.26530612,   3.46938776,   3.67346939,\n",
       "         3.87755102,   4.08163265,   4.28571429,   4.48979592,\n",
       "         4.69387755,   4.89795918,   5.10204082,   5.30612245,\n",
       "         5.51020408,   5.71428571,   5.91836735,   6.12244898,\n",
       "         6.32653061,   6.53061224,   6.73469388,   6.93877551,\n",
       "         7.14285714,   7.34693878,   7.55102041,   7.75510204,\n",
       "         7.95918367,   8.16326531,   8.36734694,   8.57142857,\n",
       "         8.7755102 ,   8.97959184,   9.18367347,   9.3877551 ,\n",
       "         9.59183673,   9.79591837,  10.        ])"
      ]
     },
     "execution_count": 8,
     "metadata": {},
     "output_type": "execute_result"
    }
   ],
   "source": [
    "xdata"
   ]
  },
  {
   "cell_type": "code",
   "execution_count": 9,
   "metadata": {},
   "outputs": [
    {
     "data": {
      "text/plain": [
       "array([22.22506429, 21.76343895, 22.34461797, 21.04539323, 21.3069344 ,\n",
       "       20.82956263, 19.65365571, 19.2995699 , 19.26465037, 19.03827546,\n",
       "       18.46675184, 17.92044031, 16.97937774, 17.21626609, 16.85032073,\n",
       "       15.52372038, 16.01329383, 15.73848487, 15.31164862, 14.84493469,\n",
       "       14.85630488, 13.41664663, 13.1305825 , 13.00513263, 12.26254178,\n",
       "       12.24581217, 11.64219658, 11.08620364,  9.93071982, 10.35017953,\n",
       "       10.13943299, 10.53667104,  9.19806455,  9.05151432,  9.10268362,\n",
       "        8.30876417,  8.69572082,  6.96378014,  6.80258778,  6.71403795,\n",
       "        6.29172467,  5.57695323,  5.42601628,  6.25491048,  5.1492759 ,\n",
       "        5.08930111,  4.85732066,  3.82990875,  4.68210176,  4.59225644,\n",
       "        4.05290111,  4.34322992,  5.46297272,  5.19121644,  5.59982281,\n",
       "        4.95835422,  6.17910625,  6.30508452,  6.54705269,  6.68919878,\n",
       "        6.65336974,  7.64789062,  8.51611705,  8.43129146,  8.33467536,\n",
       "        8.98042762, 10.38003514,  9.7249742 , 10.16620903, 10.58123251,\n",
       "       11.46964756, 12.20462201, 11.66360208, 12.51442389, 12.9219886 ,\n",
       "       13.19562251, 13.42825944, 14.04182783, 13.91815639, 14.41007753,\n",
       "       15.15972162, 15.09948573, 16.52943035, 16.27845254, 15.72150432,\n",
       "       17.20078399, 17.55544194, 18.45878548, 18.27752459, 18.40544577,\n",
       "       18.47231768, 19.50410707, 20.16991446, 19.6621264 , 21.34335215,\n",
       "       20.87416301, 22.20575072, 21.76208366, 22.54482985])"
      ]
     },
     "execution_count": 9,
     "metadata": {},
     "output_type": "execute_result"
    }
   ],
   "source": [
    "ydata"
   ]
  },
  {
   "cell_type": "code",
   "execution_count": 10,
   "metadata": {},
   "outputs": [
    {
     "data": {
      "text/plain": [
       "array([22.37458256, 21.9703545 , 21.56612645, 21.16189843, 20.75767045,\n",
       "       20.35344253, 19.94921469, 19.54498698, 19.14075945, 18.73653218,\n",
       "       18.3323053 , 17.92807899, 17.52385351, 17.11962924, 16.71540672,\n",
       "       16.31118677, 15.90697055, 15.50275974, 15.09855678, 14.69436518,\n",
       "       14.29019003, 13.88603862, 13.48192143, 13.07785349, 12.67385625,\n",
       "       12.2699603 , 11.8662091 , 11.46266422, 11.05941248, 10.65657589,\n",
       "       10.25432504,  9.85289716,  9.45262009,  9.05394376,  8.65748056,\n",
       "        8.2640562 ,  7.87477185,  7.49107733,  7.11485316,  6.74849604,\n",
       "        6.39499794,  6.05800402,  5.74182877,  5.45140636,  5.19215169,\n",
       "        4.96971604,  4.78963798,  4.65691463,  4.57554563,  4.54812317,\n",
       "        4.57554563,  4.65691464,  4.789638  ,  4.96971606,  5.19215172,\n",
       "        5.45140639,  5.7418288 ,  6.05800405,  6.39499797,  6.74849607,\n",
       "        7.1148532 ,  7.49107736,  7.87477189,  8.26405624,  8.6574806 ,\n",
       "        9.0539438 ,  9.45262013,  9.8528972 , 10.25432508, 10.65657593,\n",
       "       11.05941252, 11.46266426, 11.86620914, 12.26996034, 12.67385629,\n",
       "       13.07785353, 13.48192147, 13.88603866, 14.29019007, 14.69436522,\n",
       "       15.09855682, 15.50275978, 15.90697059, 16.31118681, 16.71540676,\n",
       "       17.11962928, 17.52385355, 17.92807903, 18.33230534, 18.73653222,\n",
       "       19.14075949, 19.54498702, 19.94921473, 20.35344257, 20.75767049,\n",
       "       21.16189847, 21.56612649, 21.97035454, 22.3745826 ])"
      ]
     },
     "execution_count": 10,
     "metadata": {},
     "output_type": "execute_result"
    }
   ],
   "source": [
    "func(xdata, *popt)"
   ]
  },
  {
   "cell_type": "code",
   "execution_count": 11,
   "metadata": {},
   "outputs": [
    {
     "name": "stdout",
     "output_type": "stream",
     "text": [
      "[\n",
      "22.22506428514314,\n",
      "21.763438950186647,\n",
      "22.34461797288261,\n",
      "21.045393231521423,\n",
      "21.30693440105827,\n",
      "20.829562634395117,\n",
      "19.65365571062872,\n",
      "19.299569896779282,\n",
      "19.264650368462398,\n",
      "19.038275459762684,\n",
      "18.46675183506123,\n",
      "17.920440314167482,\n",
      "16.97937774284595,\n",
      "17.216266091480296,\n",
      "16.850320733862297,\n",
      "15.523720383806829,\n",
      "16.013293833646514,\n",
      "15.73848487219435,\n",
      "15.311648619479492,\n",
      "14.844934689072968,\n",
      "14.856304875335539,\n",
      "13.416646633350142,\n",
      "13.130582497368252,\n",
      "13.005132630309422,\n",
      "12.262541783776033,\n",
      "12.2458121677585,\n",
      "11.642196581958371,\n",
      "11.08620364046322,\n",
      "9.93071981553437,\n",
      "10.35017953151173,\n",
      "10.139432994123418,\n",
      "10.536671035153027,\n",
      "9.19806454623451,\n",
      "9.051514320839484,\n",
      "9.102683620937851,\n",
      "8.308764169168896,\n",
      "8.695720816451576,\n",
      "6.9637801395615915,\n",
      "6.80258777718743,\n",
      "6.7140379500554666,\n",
      "6.291724671744719,\n",
      "5.57695323409751,\n",
      "5.426016281709606,\n",
      "6.254910483725118,\n",
      "5.149275904483385,\n",
      "5.089301105523647,\n",
      "4.857320663130353,\n",
      "3.829908745164279,\n",
      "4.682101761937049,\n",
      "4.59225644468526,\n",
      "4.0529011064383855,\n",
      "4.343229917885113,\n",
      "5.462972722137394,\n",
      "5.191216443735303,\n",
      "5.599822807173055,\n",
      "4.9583542221756485,\n",
      "6.179106251117946,\n",
      "6.305084524969687,\n",
      "6.547052689405855,\n",
      "6.689198783653892,\n",
      "6.653369742543223,\n",
      "7.647890620170989,\n",
      "8.51611705029701,\n",
      "8.431291461025364,\n",
      "8.334675362756391,\n",
      "8.980427618092246,\n",
      "10.380035136707596,\n",
      "9.724974201287704,\n",
      "10.1662090278385,\n",
      "10.581232514986272,\n",
      "11.46964756103953,\n",
      "12.20462200708429,\n",
      "11.66360207525352,\n",
      "12.514423891871354,\n",
      "12.921988600806081,\n",
      "13.195622507120705,\n",
      "13.428259439078488,\n",
      "14.041827826991476,\n",
      "13.918156393821738,\n",
      "14.410077532765964,\n",
      "15.159721622447998,\n",
      "15.09948572639276,\n",
      "16.529430352124646,\n",
      "16.278452544717116,\n",
      "15.721504317271833,\n",
      "17.200783992297357,\n",
      "17.555441937540355,\n",
      "18.458785481851038,\n",
      "18.277524590317014,\n",
      "18.405445774460574,\n",
      "18.472317682256886,\n",
      "19.504107065332008,\n",
      "20.16991446046371,\n",
      "19.66212639999817,\n",
      "21.343352145940774,\n",
      "20.874163012751705,\n",
      "22.20575071672019,\n",
      "21.762083662954634,\n",
      "22.544829847415524,\n",
      "]\n"
     ]
    }
   ],
   "source": [
    "print(\"[\")\n",
    "for index in range(len(ydata)):\n",
    "    print(str(ydata[index]) + \",\")\n",
    "print(\"]\")"
   ]
  },
  {
   "cell_type": "code",
   "execution_count": 12,
   "metadata": {},
   "outputs": [],
   "source": [
    "foo = \"[\"\n",
    "for index in range(len(ydata)):\n",
    "    foo += str(ydata[index]) + \",\"\n",
    "foo += \"]\""
   ]
  },
  {
   "cell_type": "code",
   "execution_count": 13,
   "metadata": {},
   "outputs": [],
   "source": [
    "def data2js(inputarray):\n",
    "    outputstring = \"[\"\n",
    "    for index in range(len(inputarray) - 1):\n",
    "        outputstring += str(inputarray[index]) + \",\"\n",
    "    outputstring += str(inputarray[len(inputarray) - 1]) + \"]\"\n",
    "    return outputstring"
   ]
  },
  {
   "cell_type": "code",
   "execution_count": 14,
   "metadata": {},
   "outputs": [
    {
     "name": "stdout",
     "output_type": "stream",
     "text": [
      "[22.22506428514314,21.763438950186647,22.34461797288261,21.045393231521423,21.30693440105827,20.829562634395117,19.65365571062872,19.299569896779282,19.264650368462398,19.038275459762684,18.46675183506123,17.920440314167482,16.97937774284595,17.216266091480296,16.850320733862297,15.523720383806829,16.013293833646514,15.73848487219435,15.311648619479492,14.844934689072968,14.856304875335539,13.416646633350142,13.130582497368252,13.005132630309422,12.262541783776033,12.2458121677585,11.642196581958371,11.08620364046322,9.93071981553437,10.35017953151173,10.139432994123418,10.536671035153027,9.19806454623451,9.051514320839484,9.102683620937851,8.308764169168896,8.695720816451576,6.9637801395615915,6.80258777718743,6.7140379500554666,6.291724671744719,5.57695323409751,5.426016281709606,6.254910483725118,5.149275904483385,5.089301105523647,4.857320663130353,3.829908745164279,4.682101761937049,4.59225644468526,4.0529011064383855,4.343229917885113,5.462972722137394,5.191216443735303,5.599822807173055,4.9583542221756485,6.179106251117946,6.305084524969687,6.547052689405855,6.689198783653892,6.653369742543223,7.647890620170989,8.51611705029701,8.431291461025364,8.334675362756391,8.980427618092246,10.380035136707596,9.724974201287704,10.1662090278385,10.581232514986272,11.46964756103953,12.20462200708429,11.66360207525352,12.514423891871354,12.921988600806081,13.195622507120705,13.428259439078488,14.041827826991476,13.918156393821738,14.410077532765964,15.159721622447998,15.09948572639276,16.529430352124646,16.278452544717116,15.721504317271833,17.200783992297357,17.555441937540355,18.458785481851038,18.277524590317014,18.405445774460574,18.472317682256886,19.504107065332008,20.16991446046371,19.66212639999817,21.343352145940774,20.874163012751705,22.20575071672019,21.762083662954634,22.544829847415524]\n"
     ]
    }
   ],
   "source": [
    "print(data2js(ydata))"
   ]
  },
  {
   "cell_type": "markdown",
   "metadata": {},
   "source": [
    "![test](../../svgfactory/svg/svg1525784628.svg)"
   ]
  },
  {
   "cell_type": "code",
   "execution_count": null,
   "metadata": {},
   "outputs": [],
   "source": []
  }
 ],
 "metadata": {
  "kernelspec": {
   "display_name": "Python 3",
   "language": "python",
   "name": "python3"
  },
  "language_info": {
   "codemirror_mode": {
    "name": "ipython",
    "version": 3
   },
   "file_extension": ".py",
   "mimetype": "text/x-python",
   "name": "python",
   "nbconvert_exporter": "python",
   "pygments_lexer": "ipython3",
   "version": "3.6.4"
  }
 },
 "nbformat": 4,
 "nbformat_minor": 2
}
